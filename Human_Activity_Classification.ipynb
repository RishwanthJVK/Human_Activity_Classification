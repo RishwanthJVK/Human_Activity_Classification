{
 "cells": [
  {
   "cell_type": "markdown",
   "id": "b033d281-63b6-43ae-b641-a4ce0c58fec5",
   "metadata": {},
   "source": [
    "# Human Activity Classification"
   ]
  },
  {
   "cell_type": "markdown",
   "id": "da959183-522f-427b-898d-1a936110dadf",
   "metadata": {},
   "source": [
    "### Objective Of The Analysis"
   ]
  },
  {
   "cell_type": "markdown",
   "id": "62c58059-a3e6-45eb-974a-a84c78c39d2b",
   "metadata": {},
   "source": [
    "The objective of the analysis is to use the inertial sensor data collected from mobiles<br>\n",
    "of several volunteers to classify the human position into the following classes:<br>\n",
    " - walking\n",
    " - walking upstairs\n",
    " - walking downstairs\n",
    " - sitting\n",
    " - standing\n",
    " - laying\n",
    "\n",
    "Though the model objective is primarily prediction, we will also try to interpret some key findings<br>\n",
    "\n",
    "**Benefit to Stakeholders:**<br>\n",
    "This model be used to build fitness applications, calorie tracker, pedestrian motion in maps, etc"
   ]
  },
  {
   "cell_type": "markdown",
   "id": "45a3cac1-c9e3-4f14-8c85-8998224bb6e6",
   "metadata": {},
   "source": [
    "### Importing required libraries"
   ]
  },
  {
   "cell_type": "code",
   "execution_count": 28,
   "id": "df60afef-88c2-483e-9896-79593336e726",
   "metadata": {},
   "outputs": [],
   "source": [
    "import pandas as pd\n",
    "import numpy as np\n",
    "import matplotlib.pyplot as plt\n",
    "import seaborn as sns\n",
    "from sklearn.preprocessing import LabelEncoder\n",
    "from sklearn.model_selection import StratifiedShuffleSplit\n",
    "from sklearn.model_selection import GridSearchCV\n",
    "from sklearn.pipeline import Pipeline\n",
    "from sklearn.preprocessing import StandardScaler\n",
    "from sklearn.linear_model import LogisticRegression\n",
    "from sklearn.neighbors import KNeighborsClassifier\n",
    "from sklearn.svm import SVC\n",
    "from sklearn.tree import DecisionTreeClassifier\n",
    "from sklearn.ensemble import BaggingClassifier, RandomForestClassifier, AdaBoostClassifier, GradientBoostingClassifier,StackingClassifier, VotingClassifier\n",
    "import warnings\n",
    "def warn(*args,**kwargs):\n",
    "    pass\n",
    "warnings.warn = warn\n",
    "from sklearn.metrics import classification_report, roc_curve, precision_recall_fscore_support as score, confusion_matrix, ConfusionMatrixDisplay"
   ]
  },
  {
   "cell_type": "markdown",
   "id": "47a39137-592d-4596-afe8-b411603d02d7",
   "metadata": {},
   "source": [
    "### Data Summary"
   ]
  },
  {
   "cell_type": "code",
   "execution_count": 2,
   "id": "4a87054f-b891-48ef-925c-19d6b0000bdd",
   "metadata": {},
   "outputs": [
    {
     "data": {
      "text/html": [
       "<div>\n",
       "<style scoped>\n",
       "    .dataframe tbody tr th:only-of-type {\n",
       "        vertical-align: middle;\n",
       "    }\n",
       "\n",
       "    .dataframe tbody tr th {\n",
       "        vertical-align: top;\n",
       "    }\n",
       "\n",
       "    .dataframe thead th {\n",
       "        text-align: right;\n",
       "    }\n",
       "</style>\n",
       "<table border=\"1\" class=\"dataframe\">\n",
       "  <thead>\n",
       "    <tr style=\"text-align: right;\">\n",
       "      <th></th>\n",
       "      <th>tBodyAcc-mean()-X</th>\n",
       "      <th>tBodyAcc-mean()-Y</th>\n",
       "      <th>tBodyAcc-mean()-Z</th>\n",
       "      <th>tBodyAcc-std()-X</th>\n",
       "      <th>tBodyAcc-std()-Y</th>\n",
       "      <th>tBodyAcc-std()-Z</th>\n",
       "      <th>tBodyAcc-mad()-X</th>\n",
       "      <th>tBodyAcc-mad()-Y</th>\n",
       "      <th>tBodyAcc-mad()-Z</th>\n",
       "      <th>tBodyAcc-max()-X</th>\n",
       "      <th>...</th>\n",
       "      <th>fBodyBodyGyroJerkMag-skewness()</th>\n",
       "      <th>fBodyBodyGyroJerkMag-kurtosis()</th>\n",
       "      <th>angle(tBodyAccMean,gravity)</th>\n",
       "      <th>angle(tBodyAccJerkMean),gravityMean)</th>\n",
       "      <th>angle(tBodyGyroMean,gravityMean)</th>\n",
       "      <th>angle(tBodyGyroJerkMean,gravityMean)</th>\n",
       "      <th>angle(X,gravityMean)</th>\n",
       "      <th>angle(Y,gravityMean)</th>\n",
       "      <th>angle(Z,gravityMean)</th>\n",
       "      <th>Activity</th>\n",
       "    </tr>\n",
       "  </thead>\n",
       "  <tbody>\n",
       "    <tr>\n",
       "      <th>0</th>\n",
       "      <td>0.288585</td>\n",
       "      <td>-0.020294</td>\n",
       "      <td>-0.132905</td>\n",
       "      <td>-0.995279</td>\n",
       "      <td>-0.983111</td>\n",
       "      <td>-0.913526</td>\n",
       "      <td>-0.995112</td>\n",
       "      <td>-0.983185</td>\n",
       "      <td>-0.923527</td>\n",
       "      <td>-0.934724</td>\n",
       "      <td>...</td>\n",
       "      <td>-0.298676</td>\n",
       "      <td>-0.710304</td>\n",
       "      <td>-0.112754</td>\n",
       "      <td>0.030400</td>\n",
       "      <td>-0.464761</td>\n",
       "      <td>-0.018446</td>\n",
       "      <td>-0.841247</td>\n",
       "      <td>0.179941</td>\n",
       "      <td>-0.058627</td>\n",
       "      <td>STANDING</td>\n",
       "    </tr>\n",
       "    <tr>\n",
       "      <th>1</th>\n",
       "      <td>0.278419</td>\n",
       "      <td>-0.016411</td>\n",
       "      <td>-0.123520</td>\n",
       "      <td>-0.998245</td>\n",
       "      <td>-0.975300</td>\n",
       "      <td>-0.960322</td>\n",
       "      <td>-0.998807</td>\n",
       "      <td>-0.974914</td>\n",
       "      <td>-0.957686</td>\n",
       "      <td>-0.943068</td>\n",
       "      <td>...</td>\n",
       "      <td>-0.595051</td>\n",
       "      <td>-0.861499</td>\n",
       "      <td>0.053477</td>\n",
       "      <td>-0.007435</td>\n",
       "      <td>-0.732626</td>\n",
       "      <td>0.703511</td>\n",
       "      <td>-0.844788</td>\n",
       "      <td>0.180289</td>\n",
       "      <td>-0.054317</td>\n",
       "      <td>STANDING</td>\n",
       "    </tr>\n",
       "    <tr>\n",
       "      <th>2</th>\n",
       "      <td>0.279653</td>\n",
       "      <td>-0.019467</td>\n",
       "      <td>-0.113462</td>\n",
       "      <td>-0.995380</td>\n",
       "      <td>-0.967187</td>\n",
       "      <td>-0.978944</td>\n",
       "      <td>-0.996520</td>\n",
       "      <td>-0.963668</td>\n",
       "      <td>-0.977469</td>\n",
       "      <td>-0.938692</td>\n",
       "      <td>...</td>\n",
       "      <td>-0.390748</td>\n",
       "      <td>-0.760104</td>\n",
       "      <td>-0.118559</td>\n",
       "      <td>0.177899</td>\n",
       "      <td>0.100699</td>\n",
       "      <td>0.808529</td>\n",
       "      <td>-0.848933</td>\n",
       "      <td>0.180637</td>\n",
       "      <td>-0.049118</td>\n",
       "      <td>STANDING</td>\n",
       "    </tr>\n",
       "    <tr>\n",
       "      <th>3</th>\n",
       "      <td>0.279174</td>\n",
       "      <td>-0.026201</td>\n",
       "      <td>-0.123283</td>\n",
       "      <td>-0.996091</td>\n",
       "      <td>-0.983403</td>\n",
       "      <td>-0.990675</td>\n",
       "      <td>-0.997099</td>\n",
       "      <td>-0.982750</td>\n",
       "      <td>-0.989302</td>\n",
       "      <td>-0.938692</td>\n",
       "      <td>...</td>\n",
       "      <td>-0.117290</td>\n",
       "      <td>-0.482845</td>\n",
       "      <td>-0.036788</td>\n",
       "      <td>-0.012892</td>\n",
       "      <td>0.640011</td>\n",
       "      <td>-0.485366</td>\n",
       "      <td>-0.848649</td>\n",
       "      <td>0.181935</td>\n",
       "      <td>-0.047663</td>\n",
       "      <td>STANDING</td>\n",
       "    </tr>\n",
       "    <tr>\n",
       "      <th>4</th>\n",
       "      <td>0.276629</td>\n",
       "      <td>-0.016570</td>\n",
       "      <td>-0.115362</td>\n",
       "      <td>-0.998139</td>\n",
       "      <td>-0.980817</td>\n",
       "      <td>-0.990482</td>\n",
       "      <td>-0.998321</td>\n",
       "      <td>-0.979672</td>\n",
       "      <td>-0.990441</td>\n",
       "      <td>-0.942469</td>\n",
       "      <td>...</td>\n",
       "      <td>-0.351471</td>\n",
       "      <td>-0.699205</td>\n",
       "      <td>0.123320</td>\n",
       "      <td>0.122542</td>\n",
       "      <td>0.693578</td>\n",
       "      <td>-0.615971</td>\n",
       "      <td>-0.847865</td>\n",
       "      <td>0.185151</td>\n",
       "      <td>-0.043892</td>\n",
       "      <td>STANDING</td>\n",
       "    </tr>\n",
       "  </tbody>\n",
       "</table>\n",
       "<p>5 rows × 562 columns</p>\n",
       "</div>"
      ],
      "text/plain": [
       "   tBodyAcc-mean()-X  tBodyAcc-mean()-Y  tBodyAcc-mean()-Z  tBodyAcc-std()-X  \\\n",
       "0           0.288585          -0.020294          -0.132905         -0.995279   \n",
       "1           0.278419          -0.016411          -0.123520         -0.998245   \n",
       "2           0.279653          -0.019467          -0.113462         -0.995380   \n",
       "3           0.279174          -0.026201          -0.123283         -0.996091   \n",
       "4           0.276629          -0.016570          -0.115362         -0.998139   \n",
       "\n",
       "   tBodyAcc-std()-Y  tBodyAcc-std()-Z  tBodyAcc-mad()-X  tBodyAcc-mad()-Y  \\\n",
       "0         -0.983111         -0.913526         -0.995112         -0.983185   \n",
       "1         -0.975300         -0.960322         -0.998807         -0.974914   \n",
       "2         -0.967187         -0.978944         -0.996520         -0.963668   \n",
       "3         -0.983403         -0.990675         -0.997099         -0.982750   \n",
       "4         -0.980817         -0.990482         -0.998321         -0.979672   \n",
       "\n",
       "   tBodyAcc-mad()-Z  tBodyAcc-max()-X  ...  fBodyBodyGyroJerkMag-skewness()  \\\n",
       "0         -0.923527         -0.934724  ...                        -0.298676   \n",
       "1         -0.957686         -0.943068  ...                        -0.595051   \n",
       "2         -0.977469         -0.938692  ...                        -0.390748   \n",
       "3         -0.989302         -0.938692  ...                        -0.117290   \n",
       "4         -0.990441         -0.942469  ...                        -0.351471   \n",
       "\n",
       "   fBodyBodyGyroJerkMag-kurtosis()  angle(tBodyAccMean,gravity)  \\\n",
       "0                        -0.710304                    -0.112754   \n",
       "1                        -0.861499                     0.053477   \n",
       "2                        -0.760104                    -0.118559   \n",
       "3                        -0.482845                    -0.036788   \n",
       "4                        -0.699205                     0.123320   \n",
       "\n",
       "   angle(tBodyAccJerkMean),gravityMean)  angle(tBodyGyroMean,gravityMean)  \\\n",
       "0                              0.030400                         -0.464761   \n",
       "1                             -0.007435                         -0.732626   \n",
       "2                              0.177899                          0.100699   \n",
       "3                             -0.012892                          0.640011   \n",
       "4                              0.122542                          0.693578   \n",
       "\n",
       "   angle(tBodyGyroJerkMean,gravityMean)  angle(X,gravityMean)  \\\n",
       "0                             -0.018446             -0.841247   \n",
       "1                              0.703511             -0.844788   \n",
       "2                              0.808529             -0.848933   \n",
       "3                             -0.485366             -0.848649   \n",
       "4                             -0.615971             -0.847865   \n",
       "\n",
       "   angle(Y,gravityMean)  angle(Z,gravityMean)  Activity  \n",
       "0              0.179941             -0.058627  STANDING  \n",
       "1              0.180289             -0.054317  STANDING  \n",
       "2              0.180637             -0.049118  STANDING  \n",
       "3              0.181935             -0.047663  STANDING  \n",
       "4              0.185151             -0.043892  STANDING  \n",
       "\n",
       "[5 rows x 562 columns]"
      ]
     },
     "execution_count": 2,
     "metadata": {},
     "output_type": "execute_result"
    }
   ],
   "source": [
    "df = pd.read_excel(\"Human_Activity_Data.xlsx\")\n",
    "df.head()"
   ]
  },
  {
   "cell_type": "code",
   "execution_count": 3,
   "id": "edc0d9ed-117e-4791-9958-803b4d944802",
   "metadata": {},
   "outputs": [
    {
     "data": {
      "text/plain": [
       "(10299, 562)"
      ]
     },
     "execution_count": 3,
     "metadata": {},
     "output_type": "execute_result"
    }
   ],
   "source": [
    "df.shape"
   ]
  },
  {
   "cell_type": "markdown",
   "id": "14416589-a186-4923-82b2-a9c753f45b97",
   "metadata": {},
   "source": [
    "This dataset has 10299 samples and 562 features"
   ]
  },
  {
   "cell_type": "code",
   "execution_count": 4,
   "id": "2db62bc8-40a2-4ebb-a32e-10fe89aee70b",
   "metadata": {},
   "outputs": [
    {
     "data": {
      "text/plain": [
       "Index(['tBodyAcc-mean()-X', 'tBodyAcc-mean()-Y', 'tBodyAcc-mean()-Z',\n",
       "       'tBodyAcc-std()-X', 'tBodyAcc-std()-Y', 'tBodyAcc-std()-Z',\n",
       "       'tBodyAcc-mad()-X', 'tBodyAcc-mad()-Y', 'tBodyAcc-mad()-Z',\n",
       "       'tBodyAcc-max()-X',\n",
       "       ...\n",
       "       'fBodyBodyGyroJerkMag-skewness()', 'fBodyBodyGyroJerkMag-kurtosis()',\n",
       "       'angle(tBodyAccMean,gravity)', 'angle(tBodyAccJerkMean),gravityMean)',\n",
       "       'angle(tBodyGyroMean,gravityMean)',\n",
       "       'angle(tBodyGyroJerkMean,gravityMean)', 'angle(X,gravityMean)',\n",
       "       'angle(Y,gravityMean)', 'angle(Z,gravityMean)', 'Activity'],\n",
       "      dtype='object', length=562)"
      ]
     },
     "execution_count": 4,
     "metadata": {},
     "output_type": "execute_result"
    }
   ],
   "source": [
    "df.columns"
   ]
  },
  {
   "cell_type": "markdown",
   "id": "fb7775d6-dec7-49fe-86ab-4cc8bc979ff1",
   "metadata": {},
   "source": [
    "The following information is provided for each record in the dataset: \n",
    "\n",
    "- Triaxial acceleration from the accelerometer (total acceleration) and the estimated body acceleration \n",
    "- Triaxial Angular velocity from the gyroscope \n",
    "- A 561-feature vector with time and frequency domain variables \n",
    "- The activity label "
   ]
  },
  {
   "cell_type": "markdown",
   "id": "74de28d1-33a0-4407-9e6a-cc0b8c1db8f2",
   "metadata": {},
   "source": [
    "**The data is scaled from -1 to 1**"
   ]
  },
  {
   "cell_type": "code",
   "execution_count": 5,
   "id": "442cf7a0-40bf-4037-9016-615dad062f4f",
   "metadata": {},
   "outputs": [
    {
     "data": {
      "text/plain": [
       "float64    561\n",
       "object       1\n",
       "Name: count, dtype: int64"
      ]
     },
     "execution_count": 5,
     "metadata": {},
     "output_type": "execute_result"
    }
   ],
   "source": [
    "df.dtypes.value_counts()"
   ]
  },
  {
   "cell_type": "code",
   "execution_count": 6,
   "id": "8081fb3a-db66-43c7-b2a9-f7efcb20df15",
   "metadata": {},
   "outputs": [
    {
     "data": {
      "text/plain": [
       "-1.0    561\n",
       "Name: count, dtype: int64"
      ]
     },
     "execution_count": 6,
     "metadata": {},
     "output_type": "execute_result"
    }
   ],
   "source": [
    "df.iloc[:, :-1].min().value_counts()"
   ]
  },
  {
   "cell_type": "code",
   "execution_count": 7,
   "id": "382b0141-4b64-49d3-83fe-64641cedfd44",
   "metadata": {},
   "outputs": [
    {
     "data": {
      "text/plain": [
       "1.0    561\n",
       "Name: count, dtype: int64"
      ]
     },
     "execution_count": 7,
     "metadata": {},
     "output_type": "execute_result"
    }
   ],
   "source": [
    "df.iloc[:, :-1].max().value_counts()"
   ]
  },
  {
   "cell_type": "code",
   "execution_count": 8,
   "id": "a06e509c-319f-4697-8a65-f4f8dece1155",
   "metadata": {},
   "outputs": [
    {
     "data": {
      "text/plain": [
       "Activity\n",
       "LAYING                1944\n",
       "STANDING              1906\n",
       "SITTING               1777\n",
       "WALKING               1722\n",
       "WALKING_UPSTAIRS      1544\n",
       "WALKING_DOWNSTAIRS    1406\n",
       "Name: count, dtype: int64"
      ]
     },
     "execution_count": 8,
     "metadata": {},
     "output_type": "execute_result"
    }
   ],
   "source": [
    "df.Activity.value_counts()"
   ]
  },
  {
   "cell_type": "markdown",
   "id": "8ec05458-e2a9-40a3-836b-e412f67d5ba4",
   "metadata": {},
   "source": [
    "Hence, it seems to be quite a balanced dataset"
   ]
  },
  {
   "cell_type": "markdown",
   "id": "3376cac5-84a8-4572-8272-fb21d0792a29",
   "metadata": {},
   "source": [
    "### Data Cleaning"
   ]
  },
  {
   "cell_type": "code",
   "execution_count": 9,
   "id": "8e908f57-e519-46c9-8d93-c00e99d12778",
   "metadata": {},
   "outputs": [
    {
     "data": {
      "text/plain": [
       "0"
      ]
     },
     "execution_count": 9,
     "metadata": {},
     "output_type": "execute_result"
    }
   ],
   "source": [
    "df.duplicated().sum()"
   ]
  },
  {
   "cell_type": "markdown",
   "id": "36f2e9ee-a5e9-4df5-95d3-09c22b139218",
   "metadata": {},
   "source": [
    "Hence, no duplicate values"
   ]
  },
  {
   "cell_type": "code",
   "execution_count": 10,
   "id": "d5f870e6-cc7d-4dcf-ba73-d179b65eea41",
   "metadata": {},
   "outputs": [
    {
     "data": {
      "text/plain": [
       "0"
      ]
     },
     "execution_count": 10,
     "metadata": {},
     "output_type": "execute_result"
    }
   ],
   "source": [
    "df.isna().sum().sum()"
   ]
  },
  {
   "cell_type": "markdown",
   "id": "6b5318e5-bcd3-497e-b1ca-09ef859f6a83",
   "metadata": {},
   "source": [
    "Hence, no missing values"
   ]
  },
  {
   "cell_type": "markdown",
   "id": "538908b0-a9ec-4a94-833b-a2e71da6243f",
   "metadata": {},
   "source": [
    "Inherently no typos (all numeric values) and outliers (scaled from -1 to 1),<br>\n",
    "hence it is an already cleaned dataset"
   ]
  },
  {
   "cell_type": "markdown",
   "id": "783222cb-b3b3-4433-8a63-b42e0fce19bb",
   "metadata": {},
   "source": [
    "### Variable Transformation"
   ]
  },
  {
   "cell_type": "markdown",
   "id": "cc6fcef7-b986-4596-8891-4eca1236b8b8",
   "metadata": {},
   "source": [
    "The Activity column is categorical and it has to be encoded for the model to be trained"
   ]
  },
  {
   "cell_type": "code",
   "execution_count": 11,
   "id": "3be1b1c7-23ea-4787-9364-9e70a9459469",
   "metadata": {},
   "outputs": [
    {
     "data": {
      "text/plain": [
       "Activity\n",
       "0    0.188756\n",
       "2    0.185067\n",
       "1    0.172541\n",
       "3    0.167201\n",
       "5    0.149917\n",
       "4    0.136518\n",
       "Name: proportion, dtype: float64"
      ]
     },
     "execution_count": 11,
     "metadata": {},
     "output_type": "execute_result"
    }
   ],
   "source": [
    "le = LabelEncoder()\n",
    "df['Activity'] = le.fit_transform(df.Activity)\n",
    "df['Activity'].value_counts(normalize = True)"
   ]
  },
  {
   "cell_type": "markdown",
   "id": "42dbd512-71f9-4f63-beb8-6b985c1ece85",
   "metadata": {},
   "source": [
    "### Key Findings"
   ]
  },
  {
   "cell_type": "code",
   "execution_count": 12,
   "id": "d52b6001-de1a-4f35-aaad-ac387ee21739",
   "metadata": {},
   "outputs": [],
   "source": [
    "df_num_corr = pd.DataFrame(df.iloc[:,:-1].corrwith(df.Activity)).reset_index().rename(columns = {\"index\" : \"Feature\", 0:\"corr\"})"
   ]
  },
  {
   "cell_type": "code",
   "execution_count": 13,
   "id": "e025af1e-a5d8-4c76-bf06-0d564741403e",
   "metadata": {},
   "outputs": [],
   "source": [
    "df_num_corr[\"abs_corr\"] = df_num_corr[\"corr\"].apply(abs)"
   ]
  },
  {
   "cell_type": "code",
   "execution_count": 14,
   "id": "33db3c45-f55a-4de4-978d-9c5fa3d55996",
   "metadata": {},
   "outputs": [],
   "source": [
    "df_num_corr = df_num_corr.sort_values(by = \"abs_corr\", ascending = False).head(10)"
   ]
  },
  {
   "cell_type": "code",
   "execution_count": 15,
   "id": "b23b4cf8-becb-4cfb-9132-452b8996df62",
   "metadata": {},
   "outputs": [
    {
     "data": {
      "text/plain": [
       "['tBodyGyroJerk-entropy()-Z',\n",
       " 'fBodyAccJerk-entropy()-X',\n",
       " 'tBodyAccJerk-entropy()-Y',\n",
       " 'tBodyAccJerkMag-entropy()',\n",
       " 'tBodyAcc-sma()',\n",
       " 'fBodyAccMag-entropy()',\n",
       " 'tGravityAccMag-mean()',\n",
       " 'tBodyAccMag-sma()',\n",
       " 'tGravityAccMag-sma()',\n",
       " 'tBodyAccMag-mean()']"
      ]
     },
     "execution_count": 15,
     "metadata": {},
     "output_type": "execute_result"
    }
   ],
   "source": [
    "df_num_corr.Feature.values.tolist()"
   ]
  },
  {
   "cell_type": "markdown",
   "id": "754aa195-ff0b-4151-8847-075954b11242",
   "metadata": {},
   "source": [
    "The above are the most important sensor measurements"
   ]
  },
  {
   "cell_type": "markdown",
   "id": "b64436c2-4168-480c-8e78-57bce1c6c826",
   "metadata": {},
   "source": [
    "### Data Splitting"
   ]
  },
  {
   "cell_type": "code",
   "execution_count": 16,
   "id": "53137280-b08d-4c02-9e54-35a498eec313",
   "metadata": {},
   "outputs": [],
   "source": [
    "feature_cols = df.columns[:-1]\n",
    "strat_shuf_split = StratifiedShuffleSplit(n_splits=1, \n",
    "                                          test_size=0.3, \n",
    "                                          random_state=42)\n",
    "train_idx, test_idx = next(strat_shuf_split.split(df[feature_cols], df.Activity))\n",
    "X_train = df.loc[train_idx, feature_cols]\n",
    "y_train = df.loc[train_idx, 'Activity']\n",
    "X_test  = df.loc[test_idx, feature_cols]\n",
    "y_test  = df.loc[test_idx, 'Activity']"
   ]
  },
  {
   "cell_type": "code",
   "execution_count": 17,
   "id": "a308b6f6-975d-40df-b305-13deef11a029",
   "metadata": {},
   "outputs": [
    {
     "data": {
      "text/plain": [
       "7743    3\n",
       "969     5\n",
       "3175    3\n",
       "8907    1\n",
       "6368    0\n",
       "       ..\n",
       "9629    1\n",
       "2327    3\n",
       "8914    1\n",
       "8756    1\n",
       "1470    5\n",
       "Name: Activity, Length: 3090, dtype: int32"
      ]
     },
     "execution_count": 17,
     "metadata": {},
     "output_type": "execute_result"
    }
   ],
   "source": [
    "y_test"
   ]
  },
  {
   "cell_type": "code",
   "execution_count": 18,
   "id": "e7c26587-a85d-493c-8242-0f7fc3fa325d",
   "metadata": {},
   "outputs": [
    {
     "data": {
      "text/plain": [
       "array([[0, 0, 0, 1, 0, 0],\n",
       "       [0, 0, 0, 0, 0, 1],\n",
       "       [0, 0, 0, 1, 0, 0],\n",
       "       ...,\n",
       "       [0, 1, 0, 0, 0, 0],\n",
       "       [0, 1, 0, 0, 0, 0],\n",
       "       [0, 0, 0, 0, 0, 1]])"
      ]
     },
     "execution_count": 18,
     "metadata": {},
     "output_type": "execute_result"
    }
   ],
   "source": [
    "from sklearn.preprocessing import label_binarize\n",
    "y_t = label_binarize(y_test,classes=[0,1,2,3,4,5])\n",
    "y_t"
   ]
  },
  {
   "cell_type": "code",
   "execution_count": 19,
   "id": "66d79088-7c58-476c-ae33-998ebcf40774",
   "metadata": {},
   "outputs": [
    {
     "data": {
      "text/plain": [
       "Activity\n",
       "0    0.188792\n",
       "2    0.185046\n",
       "1    0.172562\n",
       "3    0.167152\n",
       "5    0.149951\n",
       "4    0.136496\n",
       "Name: proportion, dtype: float64"
      ]
     },
     "execution_count": 19,
     "metadata": {},
     "output_type": "execute_result"
    }
   ],
   "source": [
    "y_train.value_counts(normalize=True)"
   ]
  },
  {
   "cell_type": "code",
   "execution_count": 20,
   "id": "1bd3d933-7ad6-4cba-91e0-0c75acd639b3",
   "metadata": {},
   "outputs": [
    {
     "data": {
      "text/plain": [
       "Activity\n",
       "0    0.188673\n",
       "2    0.185113\n",
       "1    0.172492\n",
       "3    0.167314\n",
       "5    0.149838\n",
       "4    0.136570\n",
       "Name: proportion, dtype: float64"
      ]
     },
     "execution_count": 20,
     "metadata": {},
     "output_type": "execute_result"
    }
   ],
   "source": [
    "y_test.value_counts(normalize=True)"
   ]
  },
  {
   "cell_type": "markdown",
   "id": "e4b37ea9-3492-4fd4-8b6c-3ea2e2e4d2a8",
   "metadata": {},
   "source": [
    "### Model Comparisons"
   ]
  },
  {
   "cell_type": "markdown",
   "id": "46426dfa-bbc4-4f14-bf72-e54bc24157a4",
   "metadata": {},
   "source": [
    "The data set is too huge to fit and train for all these models, so lets do the model comparison on<br>\n",
    "only a stratified sample of the dataset"
   ]
  },
  {
   "cell_type": "code",
   "execution_count": 21,
   "id": "26135b2c-b36f-40b1-b98d-81d53d3308bb",
   "metadata": {},
   "outputs": [],
   "source": [
    "strat_shuf_split = StratifiedShuffleSplit(n_splits=1,train_size = 100,\n",
    "                                          test_size=30, \n",
    "                                          random_state=42)\n",
    "train_idx, test_idx = next(strat_shuf_split.split(df[feature_cols], df.Activity))\n",
    "X_train = df.loc[train_idx, feature_cols]\n",
    "y_train = df.loc[train_idx, 'Activity']\n",
    "X_test  = df.loc[test_idx, feature_cols]\n",
    "y_test  = df.loc[test_idx, 'Activity']"
   ]
  },
  {
   "cell_type": "code",
   "execution_count": 22,
   "id": "c5b372c7-7aeb-40fc-b842-4029f1690081",
   "metadata": {},
   "outputs": [],
   "source": [
    "model_scores = {}"
   ]
  },
  {
   "cell_type": "markdown",
   "id": "2850be8f-0459-4b00-81ab-cbca0b5837f1",
   "metadata": {},
   "source": [
    "**Logistic Regression**"
   ]
  },
  {
   "cell_type": "code",
   "execution_count": 23,
   "id": "b7713714-fcca-414b-9453-77e2aeea20e4",
   "metadata": {},
   "outputs": [
    {
     "name": "stdout",
     "output_type": "stream",
     "text": [
      "0.8666666666666667\n"
     ]
    }
   ],
   "source": [
    "pipe_lr = Pipeline([\n",
    "    ('clf', LogisticRegression(multi_class='multinomial', solver='saga', max_iter=1000))\n",
    "])\n",
    "\n",
    "param_lr = {\n",
    "    'clf__C': [0.01, 0.1, 1, 10],\n",
    "    'clf__penalty': ['l1', 'l2']\n",
    "}\n",
    "\n",
    "grid_lr = GridSearchCV(pipe_lr, param_lr, cv=5, scoring='accuracy')\n",
    "grid_lr.fit(X_train,y_train)\n",
    "lr = grid_lr.best_estimator_\n",
    "print(lr.score(X_test,y_test))"
   ]
  },
  {
   "cell_type": "code",
   "execution_count": 24,
   "id": "47a9c632-5c89-4add-ab5e-66ebbb5261b8",
   "metadata": {},
   "outputs": [
    {
     "name": "stdout",
     "output_type": "stream",
     "text": [
      "              precision    recall  f1-score   support\n",
      "\n",
      "           0       1.00      1.00      1.00         6\n",
      "           1       0.75      0.60      0.67         5\n",
      "           2       0.83      0.83      0.83         6\n",
      "           3       1.00      1.00      1.00         5\n",
      "           4       1.00      0.75      0.86         4\n",
      "           5       0.67      1.00      0.80         4\n",
      "\n",
      "    accuracy                           0.87        30\n",
      "   macro avg       0.88      0.86      0.86        30\n",
      "weighted avg       0.88      0.87      0.87        30\n",
      "\n"
     ]
    }
   ],
   "source": [
    "y_pred = lr.predict(X_test)\n",
    "print(classification_report(y_test, y_pred))\n",
    "model_scores[\"Logistic_Regression\"] = list(score(y_test,y_pred, average = \"weighted\")) + [lr.score(X_test,y_test, average = \"weighted\")]"
   ]
  },
  {
   "cell_type": "code",
   "execution_count": 29,
   "id": "b0d972d8-483d-4880-bfb5-010b9e968a04",
   "metadata": {},
   "outputs": [
    {
     "data": {
      "text/plain": [
       "Text(0.5, 1.0, 'Logistic Regression')"
      ]
     },
     "execution_count": 29,
     "metadata": {},
     "output_type": "execute_result"
    },
    {
     "data": {
      "image/png": "[encoded data removed]",
      "text/plain": [
       "<Figure size 640x480 with 1 Axes>"
      ]
     },
     "metadata": {},
     "output_type": "display_data"
    }
   ],
   "source": [
    "ax = plt.gca()\n",
    "cm = confusion_matrix(y_test, y_pred)\n",
    "disp = ConfusionMatrixDisplay(confusion_matrix=cm, display_labels=lr.classes_)\n",
    "disp.plot(ax=ax, cmap='Blues', colorbar=False)\n",
    "ax.set_title(\"Logistic Regression\")"
   ]
  },
  {
   "cell_type": "markdown",
   "id": "6dd20aa7-3af2-4f08-8de1-fca6ec6b5eab",
   "metadata": {},
   "source": [
    "**K-Nearest Neighbours**"
   ]
  },
  {
   "cell_type": "code",
   "execution_count": 30,
   "id": "8f940d00-393f-4295-aba9-c74ca78ba251",
   "metadata": {},
   "outputs": [
    {
     "name": "stdout",
     "output_type": "stream",
     "text": [
      "0.7333333333333333\n"
     ]
    }
   ],
   "source": [
    "pipe_knn = Pipeline([\n",
    "    ('clf', KNeighborsClassifier())\n",
    "])\n",
    "\n",
    "param_knn = {\n",
    "    'clf__n_neighbors': [3, 5, 7, 9],\n",
    "    'clf__weights': ['uniform', 'distance'],\n",
    "    'clf__p': [1, 2]  \n",
    "}\n",
    "\n",
    "grid_knn = GridSearchCV(pipe_knn, param_knn, cv=5, scoring='accuracy')\n",
    "grid_knn.fit(X_train,y_train)\n",
    "knn = grid_knn.best_estimator_\n",
    "print(knn.score(X_test,y_test))"
   ]
  },
  {
   "cell_type": "code",
   "execution_count": 31,
   "id": "290e28b7-ae71-4007-b24e-89ead7fb9234",
   "metadata": {},
   "outputs": [
    {
     "name": "stdout",
     "output_type": "stream",
     "text": [
      "              precision    recall  f1-score   support\n",
      "\n",
      "           0       1.00      1.00      1.00         6\n",
      "           1       0.50      0.20      0.29         5\n",
      "           2       0.62      0.83      0.71         6\n",
      "           3       0.67      0.80      0.73         5\n",
      "           4       0.67      0.50      0.57         4\n",
      "           5       0.80      1.00      0.89         4\n",
      "\n",
      "    accuracy                           0.73        30\n",
      "   macro avg       0.71      0.72      0.70        30\n",
      "weighted avg       0.71      0.73      0.71        30\n",
      "\n"
     ]
    }
   ],
   "source": [
    "y_pred = knn.predict(X_test)\n",
    "print(classification_report(y_test, y_pred))\n",
    "model_scores[\"KNN\"] = list(score(y_test,y_pred, average = \"weighted\")) + [knn.score(X_test,y_test, average = \"weighted\")]"
   ]
  },
  {
   "cell_type": "code",
   "execution_count": 32,
   "id": "9297e533-abdd-4a94-bc0c-b08e96f7e7b2",
   "metadata": {},
   "outputs": [
    {
     "data": {
      "text/plain": [
       "Text(0.5, 1.0, 'K-Nearest Neighbours')"
      ]
     },
     "execution_count": 32,
     "metadata": {},
     "output_type": "execute_result"
    },
    {
     "data": {
      "image/png": "[encoded data removed]",
      "text/plain": [
       "<Figure size 640x480 with 1 Axes>"
      ]
     },
     "metadata": {},
     "output_type": "display_data"
    }
   ],
   "source": [
    "ax = plt.gca()\n",
    "cm = confusion_matrix(y_test, y_pred)\n",
    "disp = ConfusionMatrixDisplay(confusion_matrix=cm, display_labels=knn.classes_)\n",
    "disp.plot(ax=ax, cmap='Blues', colorbar=False)\n",
    "ax.set_title(\"K-Nearest Neighbours\")"
   ]
  },
  {
   "cell_type": "markdown",
   "id": "745e7978-ae73-43e7-8707-405861a2df2d",
   "metadata": {},
   "source": [
    "**Support Vector Machine**"
   ]
  },
  {
   "cell_type": "code",
   "execution_count": 33,
   "id": "ba9e96f4-4849-48b2-8515-aeeaf984ddae",
   "metadata": {},
   "outputs": [
    {
     "name": "stdout",
     "output_type": "stream",
     "text": [
      "0.8333333333333334\n"
     ]
    }
   ],
   "source": [
    "pipe_svm = Pipeline([\n",
    "    ('clf', SVC(decision_function_shape='ovr'))\n",
    "])\n",
    "\n",
    "param_svm = {\n",
    "    'clf__C': [0.1, 1, 10],\n",
    "    'clf__kernel': ['linear', 'rbf'],\n",
    "    'clf__gamma': ['scale', 'auto']\n",
    "}\n",
    "\n",
    "grid_svm = GridSearchCV(pipe_svm, param_svm, cv=5, scoring='accuracy')\n",
    "grid_svm.fit(X_train,y_train)\n",
    "svm = grid_svm.best_estimator_\n",
    "print(svm.score(X_test,y_test))"
   ]
  },
  {
   "cell_type": "code",
   "execution_count": 34,
   "id": "b3474d4b-6dd5-4f44-9c37-44a0791dca5c",
   "metadata": {},
   "outputs": [
    {
     "name": "stdout",
     "output_type": "stream",
     "text": [
      "              precision    recall  f1-score   support\n",
      "\n",
      "           0       1.00      1.00      1.00         6\n",
      "           1       1.00      0.40      0.57         5\n",
      "           2       0.67      1.00      0.80         6\n",
      "           3       0.83      1.00      0.91         5\n",
      "           4       1.00      0.75      0.86         4\n",
      "           5       0.75      0.75      0.75         4\n",
      "\n",
      "    accuracy                           0.83        30\n",
      "   macro avg       0.88      0.82      0.81        30\n",
      "weighted avg       0.87      0.83      0.82        30\n",
      "\n"
     ]
    }
   ],
   "source": [
    "y_pred = svm.predict(X_test)\n",
    "print(classification_report(y_test, y_pred))\n",
    "model_scores[\"SVM\"] = list(score(y_test,y_pred, average = \"weighted\")) + [svm.score(X_test,y_test, average = \"weighted\")]"
   ]
  },
  {
   "cell_type": "code",
   "execution_count": 35,
   "id": "41711c1e-6fbc-4da2-86c6-251fc3fbe7ab",
   "metadata": {},
   "outputs": [
    {
     "data": {
      "text/plain": [
       "Text(0.5, 1.0, 'Support Vector Machine')"
      ]
     },
     "execution_count": 35,
     "metadata": {},
     "output_type": "execute_result"
    },
    {
     "data": {
      "image/png": "[encoded data removed]",
      "text/plain": [
       "<Figure size 640x480 with 1 Axes>"
      ]
     },
     "metadata": {},
     "output_type": "display_data"
    }
   ],
   "source": [
    "ax = plt.gca()\n",
    "cm = confusion_matrix(y_test, y_pred)\n",
    "disp = ConfusionMatrixDisplay(confusion_matrix=cm, display_labels=svm.classes_)\n",
    "disp.plot(ax=ax, cmap='Blues', colorbar=False)\n",
    "ax.set_title(\"Support Vector Machine\")"
   ]
  },
  {
   "cell_type": "markdown",
   "id": "5618995d-788d-4aa9-beca-6bb1b6b69e6f",
   "metadata": {},
   "source": [
    "**Decision Tree Classifier**"
   ]
  },
  {
   "cell_type": "code",
   "execution_count": 36,
   "id": "783da27e-71ba-4e20-886b-545cd37464fe",
   "metadata": {},
   "outputs": [
    {
     "name": "stdout",
     "output_type": "stream",
     "text": [
      "0.7666666666666667\n"
     ]
    }
   ],
   "source": [
    "pipe_dt = Pipeline([\n",
    "    ('clf', DecisionTreeClassifier())\n",
    "])\n",
    "\n",
    "param_dt = {\n",
    "    'clf__max_depth': [None, 5, 10, 20],\n",
    "    'clf__min_samples_split': [2, 5, 10],\n",
    "    'clf__criterion': ['gini', 'entropy']\n",
    "}\n",
    "\n",
    "grid_dt = GridSearchCV(pipe_dt, param_dt, cv=5, scoring='accuracy')\n",
    "grid_dt.fit(X_train,y_train)\n",
    "dt = grid_dt.best_estimator_\n",
    "print(dt.score(X_test,y_test))"
   ]
  },
  {
   "cell_type": "code",
   "execution_count": 37,
   "id": "c0543e44-5593-4202-bdf4-4edcd79f73b5",
   "metadata": {},
   "outputs": [
    {
     "name": "stdout",
     "output_type": "stream",
     "text": [
      "              precision    recall  f1-score   support\n",
      "\n",
      "           0       1.00      1.00      1.00         6\n",
      "           1       0.75      0.60      0.67         5\n",
      "           2       0.75      1.00      0.86         6\n",
      "           3       0.67      0.80      0.73         5\n",
      "           4       1.00      0.50      0.67         4\n",
      "           5       0.50      0.50      0.50         4\n",
      "\n",
      "    accuracy                           0.77        30\n",
      "   macro avg       0.78      0.73      0.74        30\n",
      "weighted avg       0.79      0.77      0.76        30\n",
      "\n"
     ]
    }
   ],
   "source": [
    "y_pred = dt.predict(X_test)\n",
    "print(classification_report(y_test, y_pred))\n",
    "model_scores[\"DT\"] = list(score(y_test,y_pred, average = \"weighted\")) + [dt.score(X_test,y_test, average = \"weighted\")]"
   ]
  },
  {
   "cell_type": "code",
   "execution_count": 38,
   "id": "44b0c4ca-c5ea-4d63-afc1-4aabe09a6c67",
   "metadata": {},
   "outputs": [
    {
     "data": {
      "text/plain": [
       "Text(0.5, 1.0, 'Decision Tree Classifier')"
      ]
     },
     "execution_count": 38,
     "metadata": {},
     "output_type": "execute_result"
    },
    {
     "data": {
      "image/png": "[encoded data removed]",
      "text/plain": [
       "<Figure size 640x480 with 1 Axes>"
      ]
     },
     "metadata": {},
     "output_type": "display_data"
    }
   ],
   "source": [
    "ax = plt.gca()\n",
    "cm = confusion_matrix(y_test, y_pred)\n",
    "disp = ConfusionMatrixDisplay(confusion_matrix=cm, display_labels=dt.classes_)\n",
    "disp.plot(ax=ax, cmap='Blues', colorbar=False)\n",
    "ax.set_title(\"Decision Tree Classifier\")"
   ]
  },
  {
   "cell_type": "markdown",
   "id": "6824004d-c79d-4a11-917b-d590b3a57e03",
   "metadata": {},
   "source": [
    "**Bagging Classifier**"
   ]
  },
  {
   "cell_type": "code",
   "execution_count": 39,
   "id": "1ca3c88e-7bd4-4852-ba20-c7a76214aa3d",
   "metadata": {},
   "outputs": [
    {
     "name": "stdout",
     "output_type": "stream",
     "text": [
      "0.8333333333333334\n"
     ]
    }
   ],
   "source": [
    "pipe_bag = Pipeline([\n",
    "    ('clf', BaggingClassifier(estimator=DecisionTreeClassifier()))\n",
    "])\n",
    "\n",
    "param_bag = {\n",
    "    'clf__n_estimators': [10, 50, 100],\n",
    "    'clf__max_samples': [0.5, 0.7, 1.0],\n",
    "    'clf__max_features': [0.5, 0.7, 1.0]\n",
    "}\n",
    "\n",
    "grid_bag = GridSearchCV(pipe_bag, param_bag, cv=5, scoring='accuracy')\n",
    "grid_bag.fit(X_train,y_train)\n",
    "bag = grid_bag.best_estimator_\n",
    "print(bag.score(X_test,y_test))"
   ]
  },
  {
   "cell_type": "code",
   "execution_count": 40,
   "id": "fbb5613d-2df5-435b-b4b5-391156e5fbf6",
   "metadata": {},
   "outputs": [
    {
     "name": "stdout",
     "output_type": "stream",
     "text": [
      "              precision    recall  f1-score   support\n",
      "\n",
      "           0       1.00      1.00      1.00         6\n",
      "           1       1.00      0.80      0.89         5\n",
      "           2       0.86      1.00      0.92         6\n",
      "           3       0.67      0.80      0.73         5\n",
      "           4       1.00      0.50      0.67         4\n",
      "           5       0.60      0.75      0.67         4\n",
      "\n",
      "    accuracy                           0.83        30\n",
      "   macro avg       0.85      0.81      0.81        30\n",
      "weighted avg       0.86      0.83      0.83        30\n",
      "\n"
     ]
    }
   ],
   "source": [
    "y_pred = bag.predict(X_test)\n",
    "print(classification_report(y_test, y_pred))\n",
    "model_scores[\"BAGGING\"] = list(score(y_test,y_pred, average = \"weighted\")) + [bag.score(X_test,y_test, average = \"weighted\")]"
   ]
  },
  {
   "cell_type": "code",
   "execution_count": 41,
   "id": "38cddb5c-f26e-472d-9815-223af3b4b51b",
   "metadata": {},
   "outputs": [
    {
     "data": {
      "text/plain": [
       "Text(0.5, 1.0, 'Bagging')"
      ]
     },
     "execution_count": 41,
     "metadata": {},
     "output_type": "execute_result"
    },
    {
     "data": {
      "image/png": "[encoded data removed]",
      "text/plain": [
       "<Figure size 640x480 with 1 Axes>"
      ]
     },
     "metadata": {},
     "output_type": "display_data"
    }
   ],
   "source": [
    "ax = plt.gca()\n",
    "cm = confusion_matrix(y_test, y_pred)\n",
    "disp = ConfusionMatrixDisplay(confusion_matrix=cm, display_labels=bag.classes_)\n",
    "disp.plot(ax=ax, cmap='Blues', colorbar=False)\n",
    "ax.set_title(\"Bagging\")"
   ]
  },
  {
   "cell_type": "markdown",
   "id": "96dfbfb5-5929-4a41-bec5-e0482f9213a9",
   "metadata": {},
   "source": [
    "**Random Forest Classifier**"
   ]
  },
  {
   "cell_type": "code",
   "execution_count": 42,
   "id": "668442ab-4347-4e1b-b550-4d7f00544d84",
   "metadata": {},
   "outputs": [
    {
     "name": "stdout",
     "output_type": "stream",
     "text": [
      "0.8666666666666667\n"
     ]
    }
   ],
   "source": [
    "pipe_rf = Pipeline([\n",
    "    ('clf', RandomForestClassifier())\n",
    "])\n",
    "\n",
    "param_rf = {\n",
    "    'clf__n_estimators': [50, 100, 200],\n",
    "    'clf__max_depth': [None, 10, 20],\n",
    "    'clf__min_samples_split': [2, 5],\n",
    "    'clf__criterion': ['gini', 'entropy']\n",
    "}\n",
    "\n",
    "grid_rf = GridSearchCV(pipe_rf, param_rf, cv=5, scoring='accuracy')\n",
    "grid_rf.fit(X_train,y_train)\n",
    "rf = grid_rf.best_estimator_\n",
    "print(rf.score(X_test,y_test))"
   ]
  },
  {
   "cell_type": "code",
   "execution_count": 43,
   "id": "9bb4fb0f-1c98-41dc-96ca-80b6a097c324",
   "metadata": {},
   "outputs": [
    {
     "name": "stdout",
     "output_type": "stream",
     "text": [
      "              precision    recall  f1-score   support\n",
      "\n",
      "           0       1.00      1.00      1.00         6\n",
      "           1       1.00      0.60      0.75         5\n",
      "           2       0.75      1.00      0.86         6\n",
      "           3       0.71      1.00      0.83         5\n",
      "           4       1.00      0.75      0.86         4\n",
      "           5       1.00      0.75      0.86         4\n",
      "\n",
      "    accuracy                           0.87        30\n",
      "   macro avg       0.91      0.85      0.86        30\n",
      "weighted avg       0.90      0.87      0.86        30\n",
      "\n"
     ]
    }
   ],
   "source": [
    "y_pred = rf.predict(X_test)\n",
    "print(classification_report(y_test, y_pred))\n",
    "model_scores[\"RF\"] = list(score(y_test,y_pred, average = \"weighted\")) + [rf.score(X_test,y_test, average = \"weighted\")]"
   ]
  },
  {
   "cell_type": "code",
   "execution_count": 44,
   "id": "5d106169-ffff-499a-980e-80950f9932e7",
   "metadata": {},
   "outputs": [
    {
     "data": {
      "text/plain": [
       "Text(0.5, 1.0, 'Random Forest')"
      ]
     },
     "execution_count": 44,
     "metadata": {},
     "output_type": "execute_result"
    },
    {
     "data": {
      "image/png": "[encoded data removed]",
      "text/plain": [
       "<Figure size 640x480 with 1 Axes>"
      ]
     },
     "metadata": {},
     "output_type": "display_data"
    }
   ],
   "source": [
    "ax = plt.gca()\n",
    "cm = confusion_matrix(y_test, y_pred)\n",
    "disp = ConfusionMatrixDisplay(confusion_matrix=cm, display_labels=rf.classes_)\n",
    "disp.plot(ax=ax, cmap='Blues', colorbar=False)\n",
    "ax.set_title(\"Random Forest\")"
   ]
  },
  {
   "cell_type": "markdown",
   "id": "b9321b32-2e02-469e-9a9a-6d011359475b",
   "metadata": {},
   "source": [
    "**Ada Boost Classifer**"
   ]
  },
  {
   "cell_type": "code",
   "execution_count": 45,
   "id": "9f9559bb-1bd8-42dd-8892-c723af70e114",
   "metadata": {},
   "outputs": [
    {
     "name": "stdout",
     "output_type": "stream",
     "text": [
      "0.8\n"
     ]
    }
   ],
   "source": [
    "pipe_ada = Pipeline([\n",
    "    ('clf', AdaBoostClassifier(estimator=DecisionTreeClassifier()))\n",
    "])\n",
    "\n",
    "param_ada = {\n",
    "    'clf__n_estimators': [50, 100],\n",
    "    'clf__learning_rate': [0.01, 0.1, 1],\n",
    "    'clf__estimator__max_depth': [1, 3, 5]\n",
    "}\n",
    "\n",
    "grid_ada = GridSearchCV(pipe_ada, param_ada, cv=5, scoring='accuracy')\n",
    "grid_ada.fit(X_train,y_train)\n",
    "ada = grid_ada.best_estimator_\n",
    "print(ada.score(X_test,y_test))"
   ]
  },
  {
   "cell_type": "code",
   "execution_count": 46,
   "id": "4a97f978-b428-41af-9587-41e407e33cbf",
   "metadata": {},
   "outputs": [
    {
     "name": "stdout",
     "output_type": "stream",
     "text": [
      "              precision    recall  f1-score   support\n",
      "\n",
      "           0       1.00      1.00      1.00         6\n",
      "           1       1.00      0.60      0.75         5\n",
      "           2       0.75      1.00      0.86         6\n",
      "           3       0.67      0.80      0.73         5\n",
      "           4       1.00      0.50      0.67         4\n",
      "           5       0.60      0.75      0.67         4\n",
      "\n",
      "    accuracy                           0.80        30\n",
      "   macro avg       0.84      0.78      0.78        30\n",
      "weighted avg       0.84      0.80      0.80        30\n",
      "\n"
     ]
    }
   ],
   "source": [
    "y_pred = ada.predict(X_test)\n",
    "print(classification_report(y_test, y_pred))\n",
    "model_scores[\"ADA\"] = list(score(y_test,y_pred, average = \"weighted\")) + [ada.score(X_test,y_test, average = \"weighted\")]"
   ]
  },
  {
   "cell_type": "code",
   "execution_count": 47,
   "id": "0afc187a-878e-44db-896c-0934946afe15",
   "metadata": {},
   "outputs": [
    {
     "data": {
      "text/plain": [
       "Text(0.5, 1.0, 'Ada Boost Classification')"
      ]
     },
     "execution_count": 47,
     "metadata": {},
     "output_type": "execute_result"
    },
    {
     "data": {
      "image/png": "[encoded data removed]",
      "text/plain": [
       "<Figure size 640x480 with 1 Axes>"
      ]
     },
     "metadata": {},
     "output_type": "display_data"
    }
   ],
   "source": [
    "ax = plt.gca()\n",
    "cm = confusion_matrix(y_test, y_pred)\n",
    "disp = ConfusionMatrixDisplay(confusion_matrix=cm, display_labels=ada.classes_)\n",
    "disp.plot(ax=ax, cmap='Blues', colorbar=False)\n",
    "ax.set_title(\"Ada Boost Classification\")"
   ]
  },
  {
   "cell_type": "markdown",
   "id": "0617f21b-9746-43dc-a98e-08d659be954e",
   "metadata": {},
   "source": [
    "**Gradient Boosting Classifier**"
   ]
  },
  {
   "cell_type": "code",
   "execution_count": null,
   "id": "353ec347-82fa-4b64-8d11-9ebe9549936b",
   "metadata": {},
   "outputs": [],
   "source": [
    "pipe_gb = Pipeline([\n",
    "    ('clf', GradientBoostingClassifier())\n",
    "])\n",
    "\n",
    "param_gb = {\n",
    "    'clf__n_estimators': [50, 100],\n",
    "    'clf__learning_rate': [0.01, 0.1, 0.2],\n",
    "    'clf__max_depth': [3, 5]\n",
    "}\n",
    "\n",
    "grid_gb = GridSearchCV(pipe_gb, param_gb, cv=5, scoring='accuracy')\n",
    "grid_gb.fit(X_train,y_train)\n",
    "gb = grid_gb.best_estimator_\n",
    "print(gb.score(X_test,y_test))"
   ]
  },
  {
   "cell_type": "code",
   "execution_count": null,
   "id": "20ce2d83-fb09-421e-b308-acda7ea1826f",
   "metadata": {},
   "outputs": [],
   "source": [
    "y_pred = gb.predict(X_test)\n",
    "print(classification_report(y_test, y_pred))\n",
    "model_scores[\"GradientBoosting\"] = list(score(y_test,y_pred, average = \"weighted\")) + [gb.score(X_test,y_test, average = \"weighted\")]"
   ]
  },
  {
   "cell_type": "code",
   "execution_count": null,
   "id": "6579efb2-8191-4100-983f-c58bdfd0afb7",
   "metadata": {},
   "outputs": [],
   "source": [
    "ax = plt.gca()\n",
    "cm = confusion_matrix(y_test, y_pred)\n",
    "disp = ConfusionMatrixDisplay(confusion_matrix=cm, display_labels=gb.classes_)\n",
    "disp.plot(ax=ax, cmap='Blues', colorbar=False)\n",
    "ax.set_title(\"Gradient Boosting Classifier\")"
   ]
  },
  {
   "cell_type": "markdown",
   "id": "6c0a4a66-271f-47a6-869f-765f1c2bd460",
   "metadata": {},
   "source": [
    "**Stacking Classifier**"
   ]
  },
  {
   "cell_type": "code",
   "execution_count": null,
   "id": "2f479a3d-b269-42d2-93ed-1f6577a87e90",
   "metadata": {},
   "outputs": [],
   "source": [
    "estimators = [\n",
    "    ('knn', KNeighborsClassifier(n_neighbors=5)),\n",
    "    ('dt', DecisionTreeClassifier(max_depth=5)),\n",
    "    ('svc', SVC(probability=True))\n",
    "]\n",
    "\n",
    "stack = StackingClassifier(estimators=estimators, final_estimator=LogisticRegression())\n",
    "\n",
    "pipe_stack = Pipeline([\n",
    "    ('scaler', StandardScaler()),\n",
    "    ('clf', stack)\n",
    "])\n",
    "\n",
    "param_stack = {\n",
    "    'clf__final_estimator__C': [0.1, 1, 10]\n",
    "}\n",
    "\n",
    "grid_stack = GridSearchCV(pipe_stack, param_stack, cv=5, scoring='accuracy')\n",
    "grid_stack.fit(X_train,y_train)\n",
    "stack = grid_stack.best_estimator_\n",
    "print(stack.score(X_test,y_test))"
   ]
  },
  {
   "cell_type": "code",
   "execution_count": null,
   "id": "b1c96d06-da0d-4a3e-89db-e08aa6b8f197",
   "metadata": {},
   "outputs": [],
   "source": [
    "y_pred = stack.predict(X_test)\n",
    "print(classification_report(y_test, y_pred))\n",
    "model_scores[\"Stacking\"] = list(score(y_test,y_pred, average = \"weighted\")) + [stack.score(X_test,y_test, average = \"weighted\")]"
   ]
  },
  {
   "cell_type": "code",
   "execution_count": null,
   "id": "ab82d5bd-417e-432d-8e02-1fd72112bc8b",
   "metadata": {},
   "outputs": [],
   "source": [
    "ax = plt.gca()\n",
    "cm = confusion_matrix(y_test, y_pred)\n",
    "disp = ConfusionMatrixDisplay(confusion_matrix=cm, display_labels=stack.classes_)\n",
    "disp.plot(ax=ax, cmap='Blues', colorbar=False)\n",
    "ax.set_title(\"Stacking Classifier\")"
   ]
  },
  {
   "cell_type": "markdown",
   "id": "bd590d52-0288-4979-bd12-f7dd0dadced3",
   "metadata": {},
   "source": [
    "**Voting Classifier**"
   ]
  },
  {
   "cell_type": "code",
   "execution_count": null,
   "id": "10038fc9-2e04-4290-a447-97a50ebc9c21",
   "metadata": {},
   "outputs": [],
   "source": [
    "vote = VotingClassifier(estimators=[\n",
    "    ('lr', LogisticRegression(max_iter=1000)),\n",
    "    ('rf', RandomForestClassifier(n_estimators=100)),\n",
    "    ('svc', SVC(probability=True))\n",
    "], voting='soft')\n",
    "\n",
    "pipe_vote = Pipeline([\n",
    "    ('scaler', StandardScaler()),\n",
    "    ('clf', vote)\n",
    "])\n",
    "\n",
    "# You can grid search voting weights:\n",
    "param_vote = {\n",
    "    'clf__weights': [(1,1,1), (2,1,1), (1,2,1)]\n",
    "}\n",
    "\n",
    "grid_vote = GridSearchCV(pipe_vote, param_vote, cv=5, scoring='accuracy')\n",
    "grid_vote.fit(X_train,y_train)\n",
    "vote = grid_vote.best_estimator_\n",
    "print(vote.score(X_test,y_test))"
   ]
  },
  {
   "cell_type": "code",
   "execution_count": null,
   "id": "b0297338-bf1c-434d-97a7-47c694aaea22",
   "metadata": {},
   "outputs": [],
   "source": [
    "y_pred = vote.predict(X_test)\n",
    "print(classification_report(y_test, y_pred))\n",
    "model_scores[\"VOTE\"] = list(score(y_test,y_pred, average = \"weighted\")) + [vote.score(X_test,y_test, average = \"weighted\")]"
   ]
  },
  {
   "cell_type": "code",
   "execution_count": null,
   "id": "aaacef08-f91e-4f02-aa93-8109928a4d35",
   "metadata": {},
   "outputs": [],
   "source": [
    "ax = plt.gca()\n",
    "cm = confusion_matrix(y_test, y_pred)\n",
    "disp = ConfusionMatrixDisplay(confusion_matrix=cm, display_labels=vote.classes_)\n",
    "disp.plot(ax=ax, cmap='Blues', colorbar=False)\n",
    "ax.set_title(\"Voting CLassifier\")"
   ]
  },
  {
   "cell_type": "code",
   "execution_count": null,
   "id": "acd841f2-fab9-47de-b4ec-45c64b45a3e3",
   "metadata": {},
   "outputs": [],
   "source": [
    "model_scores = {\n",
    "    'Logistic_Regression': [0.8806, 0.8667, 0.8654, 0.8667],\n",
    "    'KNN': [0.715, 0.7333, 0.7064, 0.7333],\n",
    "    'SVM': [0.8722, 0.8333, 0.8210, 0.8333],\n",
    "    'DT': [0.8167, 0.7667, 0.7653, 0.7667],\n",
    "    'BAGGING': [0.8625, 0.8333, 0.8318, 0.8333],\n",
    "    'RF': [0.8690, 0.8333, 0.8242, 0.8333],\n",
    "    'ADA': [0.8411, 0.8, 0.7954, 0.8],\n",
    "    'GradientBoosting': [0.7667, 0.7333, 0.7131, 0.7333],\n",
    "    'Stacking': [0.8411, 0.8, 0.7954, 0.8],\n",
    "    'VOTE': [0.8690, 0.8333, 0.8198, 0.8333]\n",
    "}\n",
    "\n",
    "accuracies = {model: round(metrics[3], 3) for model, metrics in model_scores.items() if metrics[3] is not None}\n",
    "\n",
    "plt.figure(figsize=(10, 6))\n",
    "sns.barplot(x=list(accuracies.keys()), y=list(accuracies.values()), palette=\"viridis\")\n",
    "plt.xticks(rotation=45)\n",
    "plt.ylabel(\"Accuracy\")\n",
    "plt.title(\"Model Accuracy Comparison\")\n",
    "plt.tight_layout()\n",
    "plt.show()\n"
   ]
  },
  {
   "cell_type": "markdown",
   "id": "3f69f0ad-4ca0-4d57-99f4-20052e3907d9",
   "metadata": {},
   "source": [
    "**logistic regression seems to be the best model**"
   ]
  },
  {
   "cell_type": "markdown",
   "id": "69a5e7b4-02b1-44fc-8373-674b131a57cd",
   "metadata": {},
   "source": [
    "### Conclusion"
   ]
  },
  {
   "cell_type": "markdown",
   "id": "d46defd1-0e10-4178-b129-a3402130ead2",
   "metadata": {},
   "source": [
    "The multiclass classification model effectively predicted six human activities based on sensor data using machine learning techniques.<br>\n",
    "Among various models tested, logistic regression achieved high classification accuracy.<br>\n",
    "The inclusion of GridSearchCV helped in fine-tuning hyperparameters to optimize performance."
   ]
  },
  {
   "cell_type": "markdown",
   "id": "cfd98ef6-d071-4c3f-8673-de5e58785d6f",
   "metadata": {},
   "source": [
    "### Flaws And Next Step"
   ]
  },
  {
   "cell_type": "markdown",
   "id": "caf20b18-7c9a-4191-a524-fb40b7e84262",
   "metadata": {},
   "source": [
    "1. The dataset was sampled to only 100  due to memory or compute constraints, which may limit generalization.\n",
    "2. Sensor data preprocessing (e.g., noise reduction, signal segmentation, feature extraction) was not deeply explored."
   ]
  }
 ],
 "metadata": {
  "kernelspec": {
   "display_name": "Python 3 (ipykernel)",
   "language": "python",
   "name": "python3"
  },
  "language_info": {
   "codemirror_mode": {
    "name": "ipython",
    "version": 3
   },
   "file_extension": ".py",
   "mimetype": "text/x-python",
   "name": "python",
   "nbconvert_exporter": "python",
   "pygments_lexer": "ipython3",
   "version": "3.12.7"
  }
 },
 "nbformat": 4,
 "nbformat_minor": 5
}
